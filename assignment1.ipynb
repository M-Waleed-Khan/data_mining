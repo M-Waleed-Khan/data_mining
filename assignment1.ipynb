{
 "cells": [
  {
   "cell_type": "code",
   "execution_count": 1,
   "metadata": {},
   "outputs": [
    {
     "name": "stdout",
     "output_type": "stream",
     "text": [
      "Muhammad waleed khan\n"
     ]
    }
   ],
   "source": [
    "# capitalize: Converts first character to Capital Letter\n",
    "name = \"muhammad waleed khan\"\n",
    "print(name.capitalize())"
   ]
  },
  {
   "cell_type": "code",
   "execution_count": 2,
   "metadata": {},
   "outputs": [
    {
     "name": "stdout",
     "output_type": "stream",
     "text": [
      "      Bahria University       \n",
      "------Bahria University-------\n"
     ]
    }
   ],
   "source": [
    "string = \"Bahria University\"\n",
    "print(string.center(30))\n",
    "# optional parameter\n",
    "string = \"Bahria University\"\n",
    "print(string.center(30,'-'))"
   ]
  },
  {
   "cell_type": "code",
   "execution_count": 3,
   "metadata": {},
   "outputs": [
    {
     "name": "stdout",
     "output_type": "stream",
     "text": [
      "ABASYN UNIVERSITY!\n",
      "b'ABASYN UNIVERSITY!'\n"
     ]
    }
   ],
   "source": [
    "# encode: returns encoded string of given string\n",
    "string = \"ABASYN UNIVERSITY!\"\n",
    "print(string)\n",
    "print(string.encode())"
   ]
  },
  {
   "cell_type": "code",
   "execution_count": 4,
   "metadata": {},
   "outputs": [
    {
     "name": "stdout",
     "output_type": "stream",
     "text": [
      "muahhammad waleed khan\n"
     ]
    }
   ],
   "source": [
    "# casefold: converts to casefolded(lower case) strings\n",
    "name = \"mUAHhAMMAD walEEd Khan\"\n",
    "print(name.casefold())"
   ]
  },
  {
   "cell_type": "code",
   "execution_count": 8,
   "metadata": {},
   "outputs": [
    {
     "name": "stdout",
     "output_type": "stream",
     "text": [
      "3\n",
      "1\n",
      "1\n"
     ]
    }
   ],
   "source": [
    "# count: returns occurrences of substring in string\n",
    "string = \"The quick fox jumped over the lazy dog.\"\n",
    "print(string.count(\"o\"))\n",
    "\n",
    "string = \"The quick fox jumped over the lazy dog.\"\n",
    "print(string.count(\"the\"))\n",
    "\n",
    "# optional parameters count(\"substring\",start,end\")\n",
    "string = \"The quick fox jumped over the lazy dog.\"\n",
    "print(string.count(\"o\",4,14))"
   ]
  },
  {
   "cell_type": "code",
   "execution_count": 23,
   "metadata": {},
   "outputs": [
    {
     "name": "stdout",
     "output_type": "stream",
     "text": [
      "True\n",
      "False\n",
      "False\n"
     ]
    }
   ],
   "source": [
    "# endswith: Checks if String Ends with the Specified Suffix\n",
    "string = \"I am a Pakistani and i love Pakistan!.\"\n",
    "print(string.endswith(\"i love Pakistan!.\"))\n",
    "print(string.endswith(\"i love pakistan.\"))\n",
    "\n",
    "# parameters(\"string,start,end\")\n",
    "print(string.endswith(\"i love pakistan.\",0,20))"
   ]
  },
  {
   "cell_type": "code",
   "execution_count": 26,
   "metadata": {},
   "outputs": [
    {
     "name": "stdout",
     "output_type": "stream",
     "text": [
      "      Bahria University       \n",
      "------Bahria University-------\n"
     ]
    }
   ],
   "source": [
    "# center: Pads string with specified character, parameters(width,fillchar)\n",
    "string = \"Bahria University\"\n",
    "print(string.center(30))\n",
    "# optional parameter\n",
    "string = \"Bahria University\"\n",
    "print(string.center(30,'-'))"
   ]
  },
  {
   "cell_type": "code",
   "execution_count": 30,
   "metadata": {},
   "outputs": [
    {
     "name": "stdout",
     "output_type": "stream",
     "text": [
      "PIAIC ARTIFICIAL        INTELLIGENNCE\n",
      "PIAIC ARTIFICIAL    INTELLIGENNCE\n",
      "PIAIC ARTIFICIAL              INTELLIGENNCE\n"
     ]
    }
   ],
   "source": [
    "# expandtabs: Replaces Tab character With Spaces\n",
    "string = \"PIAIC ARTIFICIAL\\tINTELLIGENNCE\"\n",
    "print(string.expandtabs())\n",
    "print(string.expandtabs(4))\n",
    "print(string.expandtabs(30))"
   ]
  },
  {
   "cell_type": "code",
   "execution_count": 32,
   "metadata": {},
   "outputs": [
    {
     "name": "stdout",
     "output_type": "stream",
     "text": [
      "hello waleed khan, TIME 10:30 AM\n",
      "hello 10:30 AM, TIME waleed khan\n",
      "hello waleed khan, TIME 10:30 AM\n",
      "4,-4\n",
      "-4,4\n"
     ]
    }
   ],
   "source": [
    "# format: formats string into nicer output\n",
    "print(\"hello {}, TIME {}\".format(\"waleed khan\",\"10:30 AM\"))\n",
    "print(\"hello {1}, TIME {0}\".format(\"waleed khan\",\"10:30 AM\"))\n",
    "print(\"hello {0}, TIME {1}\".format(\"waleed khan\",\"10:30 AM\"))\n",
    "# working with dict\n",
    "point = {'x':4,'y':-4}\n",
    "print('{x},{y}'.format(**point))\n",
    "print('{y},{x}'.format(**point))"
   ]
  },
  {
   "cell_type": "code",
   "execution_count": 33,
   "metadata": {},
   "outputs": [
    {
     "name": "stdout",
     "output_type": "stream",
     "text": [
      "14\n",
      "14\n"
     ]
    }
   ],
   "source": [
    "# index: Returns Index of Substring\n",
    "string = \"The quick fox jumped over the lazy dog.\"\n",
    "print(string.index('jumped'))\n",
    "\n",
    "print(string.index('jumped',12 ,48))"
   ]
  },
  {
   "cell_type": "code",
   "execution_count": 34,
   "metadata": {},
   "outputs": [
    {
     "name": "stdout",
     "output_type": "stream",
     "text": [
      "30\n",
      "-1\n",
      "-1\n"
     ]
    }
   ],
   "source": [
    "# find: Returns the index of first occurrence of substring\n",
    "string = \"The quick fox jumped over the lazy dog.\"\n",
    "print(string.find(\"lazy\"))\n",
    "\n",
    "print(string.find(\"lazy\",20,30))\n",
    "print(string.find(\"lazy\",8,30))"
   ]
  },
  {
   "cell_type": "code",
   "execution_count": 35,
   "metadata": {},
   "outputs": [
    {
     "name": "stdout",
     "output_type": "stream",
     "text": [
      "4 -4\n",
      "4 -5 0\n"
     ]
    }
   ],
   "source": [
    "# format_map: Formats the String Using Dictionary\n",
    "point = {'x':4,'y':-4}\n",
    "print('{x} {y}'.format_map(point))\n",
    "\n",
    "point = {'x':4,'y':-5, 'z': 0}\n",
    "print('{x} {y} {z}'.format_map(point))\n",
    "\n"
   ]
  },
  {
   "cell_type": "code",
   "execution_count": 36,
   "metadata": {},
   "outputs": [
    {
     "name": "stdout",
     "output_type": "stream",
     "text": [
      "True\n",
      "True\n",
      "True\n",
      "False\n"
     ]
    }
   ],
   "source": [
    "# isalnum: Checks Alphanumeric Character\n",
    "string = \"error404\"\n",
    "print(string.isalnum())\n",
    "string1 = \"122312\"\n",
    "print(string1.isalnum())\n",
    "string1 = \"abcefha\"\n",
    "print(string1.isalnum())\n",
    "string1 = \"waleed@123\"\n",
    "print(string1.isalnum())"
   ]
  },
  {
   "cell_type": "code",
   "execution_count": 37,
   "metadata": {},
   "outputs": [
    {
     "name": "stdout",
     "output_type": "stream",
     "text": [
      "False\n",
      "True\n"
     ]
    }
   ],
   "source": [
    "# isdigit\n",
    "string = \"waleed\"\n",
    "print(string.isdigit())\n",
    "\n",
    "string = \"1\"\n",
    "print(string.isdigit())"
   ]
  },
  {
   "cell_type": "code",
   "execution_count": 39,
   "metadata": {},
   "outputs": [
    {
     "name": "stdout",
     "output_type": "stream",
     "text": [
      "True\n"
     ]
    }
   ],
   "source": [
    "\n",
    "# isprintable\n",
    "string = 'b a h r i a u n i v e r s i t y'\n",
    "print(string.isprintable())"
   ]
  },
  {
   "cell_type": "code",
   "execution_count": 40,
   "metadata": {},
   "outputs": [
    {
     "name": "stdout",
     "output_type": "stream",
     "text": [
      "True\n",
      "False\n"
     ]
    }
   ],
   "source": [
    "# isalpha\n",
    "string = \"piaic\"\n",
    "print(string.isalpha())\n",
    "\n",
    "string = \"bahri university\"\n",
    "print(string1.isalpha())"
   ]
  },
  {
   "cell_type": "code",
   "execution_count": 41,
   "metadata": {},
   "outputs": [
    {
     "name": "stdout",
     "output_type": "stream",
     "text": [
      "True\n",
      "False\n"
     ]
    }
   ],
   "source": [
    "# isdecimal\n",
    "string = \"69\"\n",
    "print(string.isdecimal())\n",
    "\n",
    "string = \"123.09\"\n",
    "print(string.isdecimal())"
   ]
  },
  {
   "cell_type": "code",
   "execution_count": 42,
   "metadata": {},
   "outputs": [
    {
     "name": "stdout",
     "output_type": "stream",
     "text": [
      "True\n"
     ]
    },
    {
     "data": {
      "text/plain": [
       "False"
      ]
     },
     "execution_count": 42,
     "metadata": {},
     "output_type": "execute_result"
    }
   ],
   "source": [
    "# islower\n",
    "string = \"bahria university\"\n",
    "print(string.islower())\n",
    "\n",
    "s = \"Bahria University\"\n",
    "s.islower()"
   ]
  },
  {
   "cell_type": "code",
   "execution_count": 43,
   "metadata": {},
   "outputs": [
    {
     "name": "stdout",
     "output_type": "stream",
     "text": [
      "True\n",
      "False\n"
     ]
    },
    {
     "data": {
      "text/plain": [
       "True"
      ]
     },
     "execution_count": 43,
     "metadata": {},
     "output_type": "execute_result"
    }
   ],
   "source": [
    "\n",
    "# isidentifier\n",
    "string = 'def'\n",
    "print(string.isidentifier())\n",
    "\n",
    "word = 'c++'\n",
    "print(word.isidentifier())\n",
    "\n",
    "s = \"python\"\n",
    "s.isidentifier()"
   ]
  },
  {
   "cell_type": "code",
   "execution_count": 44,
   "metadata": {},
   "outputs": [
    {
     "name": "stdout",
     "output_type": "stream",
     "text": [
      "True\n",
      "False\n"
     ]
    }
   ],
   "source": [
    "# isspace\n",
    "string = \"                   \"\n",
    "print(string.isspace())\n",
    "\n",
    "\n",
    "string = \"   space        \"\n",
    "print(string.isspace())"
   ]
  },
  {
   "cell_type": "code",
   "execution_count": 45,
   "metadata": {},
   "outputs": [
    {
     "name": "stdout",
     "output_type": "stream",
     "text": [
      "True\n",
      "False\n"
     ]
    }
   ],
   "source": [
    "# isupper\n",
    "string = \"CAPITALIZED\"\n",
    "print(string.isupper())\n",
    "\n",
    "string = \"my name is waleed khan\"\n",
    "print(string.isupper())"
   ]
  },
  {
   "cell_type": "code",
   "execution_count": 46,
   "metadata": {},
   "outputs": [
    {
     "name": "stdout",
     "output_type": "stream",
     "text": [
      "waleed    khan\n",
      "waleed----khan\n"
     ]
    }
   ],
   "source": [
    "# ljust: returns left-justified string of given width\n",
    "s = \"waleed\"\n",
    "print(s.ljust(10) + \"khan\")\n",
    "print(s.ljust(10,'-') + \"khan\")"
   ]
  },
  {
   "cell_type": "code",
   "execution_count": 50,
   "metadata": {},
   "outputs": [
    {
     "name": "stdout",
     "output_type": "stream",
     "text": [
      "False\n",
      "True\n",
      "False\n",
      "True\n"
     ]
    }
   ],
   "source": [
    "# istitle\n",
    "string = \"my name is waleed\"\n",
    "print(string.istitle())\n",
    "\n",
    "string = \"My Name Is Waleed\"\n",
    "print(string.istitle())\n",
    "\n",
    "string = \"My name is Waleed\"\n",
    "print(string.istitle())\n",
    "string = \"9 Is My @ Fav Number\"\n",
    "print(string.istitle())"
   ]
  },
  {
   "cell_type": "code",
   "execution_count": 51,
   "metadata": {},
   "outputs": [
    {
     "name": "stdout",
     "output_type": "stream",
     "text": [
      "w,a,l,e,e,d, ,k,h,a,n\n"
     ]
    }
   ],
   "source": [
    "# join : returns a concatinated string\n",
    "string = 'waleed khan'\n",
    "sep = ','\n",
    "print(sep.join(string))"
   ]
  },
  {
   "cell_type": "code",
   "execution_count": 52,
   "metadata": {},
   "outputs": [
    {
     "name": "stdout",
     "output_type": "stream",
     "text": [
      "Bahria    University    Islamabad\n",
      "   Bahria    University    Islamabad   \n",
      "Bahria    University    Islamabad   \n",
      "   Bahria    University    Islamabad\n"
     ]
    }
   ],
   "source": [
    "\n",
    "# strip , rstrip, lstrip\n",
    "s = \"   Bahria    University    Islamabad   \"\n",
    "print(s.strip())\n",
    "print(s.strip('zindabad'))\n",
    "print(s.lstrip())\n",
    "print(s.rstrip())"
   ]
  },
  {
   "cell_type": "code",
   "execution_count": 54,
   "metadata": {},
   "outputs": [
    {
     "name": "stdout",
     "output_type": "stream",
     "text": [
      "('i ', 'am ', 'waleed')\n"
     ]
    }
   ],
   "source": [
    "# rpartition\n",
    "string = \"i am waleed\"\n",
    "print(string.rpartition('am '))"
   ]
  },
  {
   "cell_type": "code",
   "execution_count": 55,
   "metadata": {},
   "outputs": [
    {
     "name": "stdout",
     "output_type": "stream",
     "text": [
      "['Islamabad', 'Pindi', 'Sindh', 'Karachi']\n",
      "['Islamabad\\n', 'Pindi\\r\\n', 'Sindh\\r', 'Karachi']\n",
      "['Islamabad Pindi Sindh Karachi']\n"
     ]
    }
   ],
   "source": [
    "# splitlines: Splits String at Line Boundaries and returns a list\n",
    "grocery = 'Islamabad\\nPindi\\r\\nSindh\\rKarachi'\n",
    "\n",
    "print(grocery.splitlines())\n",
    "print(grocery.splitlines(True))\n",
    "\n",
    "grocery = 'Islamabad Pindi Sindh Karachi'\n",
    "print(grocery.splitlines())"
   ]
  },
  {
   "cell_type": "code",
   "execution_count": 56,
   "metadata": {},
   "outputs": [
    {
     "name": "stdout",
     "output_type": "stream",
     "text": [
      "bahria UNIVERSITY\n"
     ]
    }
   ],
   "source": [
    "# swapcase: swap uppercase characters to lowercase; vice versa\n",
    "string = \"BAHRIA university\"\n",
    "print(string.swapcase())"
   ]
  },
  {
   "cell_type": "code",
   "execution_count": 58,
   "metadata": {},
   "outputs": [
    {
     "name": "stdout",
     "output_type": "stream",
     "text": [
      "['My', 'name', 'is', 'Waleed']\n",
      "['My', 'name', 'is', 'Waleed']\n"
     ]
    }
   ],
   "source": [
    "# split : Splits String from Left and returns a list\n",
    "string = \"My name is Waleed\"\n",
    "print(string.split())\n",
    "\n",
    "print(string.rsplit())"
   ]
  },
  {
   "cell_type": "code",
   "execution_count": 59,
   "metadata": {},
   "outputs": [
    {
     "name": "stdout",
     "output_type": "stream",
     "text": [
      "False\n",
      "False\n",
      "True\n"
     ]
    }
   ],
   "source": [
    "# startswith and endswith\n",
    "string =  \"The quick fox jumped over the lazy dog.\"\n",
    "print(string.startswith('Is'))\n",
    "print(string.endswith(\"dog\"))\n",
    "print(string.endswith('dog.'))"
   ]
  },
  {
   "cell_type": "code",
   "execution_count": 61,
   "metadata": {},
   "outputs": [
    {
     "name": "stdout",
     "output_type": "stream",
     "text": [
      "0program is fun\n",
      "000000program is fun\n",
      "program is fun\n"
     ]
    }
   ],
   "source": [
    "# zfill: returns a copy of the string with '0' characters padded to the left.\n",
    "text = \"program is fun\"\n",
    "print(text.zfill(15))\n",
    "print(text.zfill(20))\n",
    "print(text.zfill(10))"
   ]
  },
  {
   "cell_type": "code",
   "execution_count": 77,
   "metadata": {},
   "outputs": [
    {
     "name": "stdout",
     "output_type": "stream",
     "text": [
      "30\n",
      "-10\n",
      "200\n",
      "0.5\n",
      "10\n",
      "100000000000000000000\n",
      "0\n"
     ]
    }
   ],
   "source": [
    "#PYTHON ARITHMATIC OPERATORS\n",
    "x=10\n",
    "c=\"waleed\"\n",
    "y=20\n",
    "print(x+y)\n",
    "print(x-y)\n",
    "print(x*y)\n",
    "print(x/y)\n",
    "print(x%y)\n",
    "print(x**y)\n",
    "print(x//y)"
   ]
  },
  {
   "cell_type": "code",
   "execution_count": 87,
   "metadata": {},
   "outputs": [
    {
     "name": "stdout",
     "output_type": "stream",
     "text": [
      "5\n",
      "6\n",
      "4\n",
      "8\n",
      "4\n",
      "16\n",
      "2\n",
      "0\n",
      "0\n",
      "0\n"
     ]
    }
   ],
   "source": [
    "#PYTHON ASSIGNMENT OPERATORS\n",
    "x=5\n",
    "print(x)\n",
    "x += 1\n",
    "print(x)\n",
    "x -= 2\n",
    "print(x)\n",
    "x *= 2\n",
    "print(x)\n",
    "x //= 2\n",
    "print(x)\n",
    "x **= 2\n",
    "print(x)\n",
    "x &= 2\n",
    "x |= 2\n",
    "print(x)\n",
    "x ^= 2\n",
    "print(x)\n",
    "x >>= 2\n",
    "print(x)\n",
    "x <<= 2\n",
    "print(x)"
   ]
  },
  {
   "cell_type": "code",
   "execution_count": 101,
   "metadata": {},
   "outputs": [
    {
     "name": "stdout",
     "output_type": "stream",
     "text": [
      "False\n",
      "True\n",
      "False\n",
      "True\n",
      "False\n",
      "True\n"
     ]
    }
   ],
   "source": [
    "#PYTHON COMPARISON OPERATORS\n",
    "x = 5\n",
    "y = 6\n",
    "isEqual = True if x==6 else False\n",
    "print(isEqual)\n",
    "isNotEqual = True if x != y else False\n",
    "print(isNotEqual)\n",
    "isGreater = True if x>y else False\n",
    "print(isGreater)\n",
    "isLesser = True if x<6 else False\n",
    "print(isLesser)\n",
    "isGreaterEqual = True if x >= y else False\n",
    "print(isGreaterEqual)\n",
    "isLesserEqual = True if x <= y else False\n",
    "print(isLesserEqual)\n"
   ]
  },
  {
   "cell_type": "code",
   "execution_count": 107,
   "metadata": {},
   "outputs": [
    {
     "name": "stdout",
     "output_type": "stream",
     "text": [
      "False\n",
      "True\n"
     ]
    }
   ],
   "source": [
    "#PYTHON LOGICAL OPERATORS\n",
    "x= 10\n",
    "andOp = True if x < 10 and x > 2 else False\n",
    "print(andOp)\n",
    "orOp = True if x <= 10 and x >= 1 else False\n",
    "print(orOp)"
   ]
  },
  {
   "cell_type": "code",
   "execution_count": null,
   "metadata": {},
   "outputs": [],
   "source": []
  }
 ],
 "metadata": {
  "kernelspec": {
   "display_name": "Python 3",
   "language": "python",
   "name": "python3"
  },
  "language_info": {
   "codemirror_mode": {
    "name": "ipython",
    "version": 3
   },
   "file_extension": ".py",
   "mimetype": "text/x-python",
   "name": "python",
   "nbconvert_exporter": "python",
   "pygments_lexer": "ipython3",
   "version": "3.7.4"
  }
 },
 "nbformat": 4,
 "nbformat_minor": 2
}
