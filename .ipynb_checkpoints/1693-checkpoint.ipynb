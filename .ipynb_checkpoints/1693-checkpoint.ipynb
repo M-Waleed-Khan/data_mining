{
 "cells": [
  {
   "cell_type": "code",
   "execution_count": 1,
   "metadata": {},
   "outputs": [],
   "source": [
    "#IMPORTING LIBRARIES FOR CLASSIFICATION\n",
    "from sklearn.datasets import load_iris\n",
    "from sklearn.model_selection import train_test_split\n",
    "from sklearn.naive_bayes import GaussianNB"
   ]
  },
  {
   "cell_type": "code",
   "execution_count": 3,
   "metadata": {},
   "outputs": [],
   "source": [
    "#LOADING IRIS DATA INTO VARIABLE\n",
    "data = load_iris()"
   ]
  },
  {
   "cell_type": "code",
   "execution_count": 5,
   "metadata": {},
   "outputs": [
    {
     "name": "stdout",
     "output_type": "stream",
     "text": [
      "['sepal length (cm)', 'sepal width (cm)', 'petal length (cm)', 'petal width (cm)']\n"
     ]
    }
   ],
   "source": [
    "#IRIS DATASET FEATURES\n",
    "print(data.feature_names)"
   ]
  },
  {
   "cell_type": "code",
   "execution_count": 6,
   "metadata": {},
   "outputs": [
    {
     "name": "stdout",
     "output_type": "stream",
     "text": [
      "['setosa' 'versicolor' 'virginica']\n"
     ]
    }
   ],
   "source": [
    "#IRIS DATASET CLASSES\n",
    "print(data.target_names)"
   ]
  },
  {
   "cell_type": "code",
   "execution_count": 9,
   "metadata": {},
   "outputs": [
    {
     "name": "stdout",
     "output_type": "stream",
     "text": [
      "(150, 4)\n"
     ]
    }
   ],
   "source": [
    "#TOTAL NUMBER OF FEATURES AND CLASSES\n",
    "print(data.data.shape)"
   ]
  },
  {
   "cell_type": "code",
   "execution_count": 42,
   "metadata": {},
   "outputs": [],
   "source": [
    "#SPLITING DATASET FOR TRAINING DATA = 80% AND TESTING DATA = 20% OF ALL FEATURES OF DATA\n",
    "features = data['data']\n",
    "classes = data['target']\n",
    "X_train, X_test, y_train, y_test = train_test_split(features, classes, test_size=0.2, random_state=0)\n",
    "\n"
   ]
  },
  {
   "cell_type": "code",
   "execution_count": 43,
   "metadata": {},
   "outputs": [],
   "source": [
    "#SELECTING NAIVE BAYES CLASSIFIER FOR CLASSIFICATION\n",
    "myModel = GaussianNB()"
   ]
  },
  {
   "cell_type": "code",
   "execution_count": 44,
   "metadata": {},
   "outputs": [
    {
     "data": {
      "text/plain": [
       "array([2, 1, 0, 2, 0, 2, 0, 1, 1, 1, 1, 1, 1, 1, 1, 0, 1, 1, 0, 0, 2, 1,\n",
       "       0, 0, 2, 0, 0, 1, 1, 0])"
      ]
     },
     "execution_count": 44,
     "metadata": {},
     "output_type": "execute_result"
    }
   ],
   "source": [
    "#TRAINGING MY MODEL\n",
    "myModel.fit(X_train, y_train).predict(X_test)"
   ]
  },
  {
   "cell_type": "code",
   "execution_count": 45,
   "metadata": {},
   "outputs": [
    {
     "name": "stdout",
     "output_type": "stream",
     "text": [
      "0.9666666666666667\n"
     ]
    }
   ],
   "source": [
    "#CHECKING ACCURACY \n",
    "accuracy = myModel.score(X_test, y_test)\n",
    "print(accuracy)"
   ]
  },
  {
   "cell_type": "markdown",
   "metadata": {},
   "source": [
    "# Q; First select individual feature and check their accuracy."
   ]
  },
  {
   "cell_type": "code",
   "execution_count": 72,
   "metadata": {},
   "outputs": [
    {
     "name": "stdout",
     "output_type": "stream",
     "text": [
      "Accuracy of Sepal_length : 66.67%\n"
     ]
    }
   ],
   "source": [
    "#SPLITING DATASET FOR TRAINING DATA = 80% AND TESTING DATA = 20% OF SEPAL_LENGTH OF DATA\n",
    "features = data.data.T\n",
    "sepal_length = features[0].reshape(-1, 1)\n",
    "myfeature = sepal_length\n",
    "classes = data['target']\n",
    "X_train, X_test, y_train, y_test = train_test_split(myfeature, classes, test_size=0.2, random_state=0)\n",
    "#TRAINGING MY MODEL\n",
    "myModel.fit(X_train, y_train).predict(X_test)\n",
    "#CHECKING ACCURACY \n",
    "accuracy = myModel.score(X_test, y_test)\n",
    "accuracy *= 100\n",
    "print(\"Accuracy of Sepal_length : \" + str(format(accuracy, '.2f')) + \"%\")"
   ]
  },
  {
   "cell_type": "code",
   "execution_count": 74,
   "metadata": {},
   "outputs": [
    {
     "name": "stdout",
     "output_type": "stream",
     "text": [
      "Accuracy of Sepal_width : 56.67%\n"
     ]
    }
   ],
   "source": [
    "#SPLITING DATASET FOR TRAINING DATA = 80% AND TESTING DATA = 20% OF SEPAL_WIDTH OF DATA\n",
    "features = data.data.T\n",
    "sepal_width = features[1].reshape(-1, 1)\n",
    "myfeature = sepal_width\n",
    "classes = data['target']\n",
    "X_train, X_test, y_train, y_test = train_test_split(myfeature, classes, test_size=0.2, random_state=0)\n",
    "#TRAINGING MY MODEL\n",
    "myModel.fit(X_train, y_train).predict(X_test)\n",
    "#CHECKING ACCURACY \n",
    "accuracy = myModel.score(X_test, y_test)\n",
    "accuracy *= 100\n",
    "print(\"Accuracy of Sepal_width : \" + str(format(accuracy, '.2f')) + \"%\")"
   ]
  },
  {
   "cell_type": "code",
   "execution_count": 114,
   "metadata": {},
   "outputs": [
    {
     "name": "stdout",
     "output_type": "stream",
     "text": [
      "Accuracy of Petal_length : 96.67%\n"
     ]
    }
   ],
   "source": [
    "#SPLITING DATASET FOR TRAINING DATA = 80% AND TESTING DATA = 20% OF PETAL_LENGTH OF DATA\n",
    "features = data.data.T\n",
    "petal_length = features[2].reshape(-1, 1)\n",
    "myfeature = petal_length\n",
    "classes = data['target']\n",
    "X_train, X_test, y_train, y_test = train_test_split(myfeature, classes, test_size=0.2, random_state=0)\n",
    "#TRAINGING MY MODEL\n",
    "myModel.fit(X_train, y_train).predict(X_test)\n",
    "#CHECKING ACCURACY \n",
    "accuracy = myModel.score(X_test, y_test)\n",
    "accuracy *= 100\n",
    "print(\"Accuracy of Petal_length : \" + str(format(accuracy, '.2f')) + \"%\")"
   ]
  },
  {
   "cell_type": "code",
   "execution_count": 115,
   "metadata": {},
   "outputs": [
    {
     "name": "stdout",
     "output_type": "stream",
     "text": [
      "Accuracy of Petal_Width : 96.67%\n"
     ]
    }
   ],
   "source": [
    "#SPLITING DATASET FOR TRAINING DATA = 80% AND TESTING DATA = 20% OF PETAL_WIDTH OF DATA\n",
    "features = data.data.T\n",
    "petal_width = features[3].reshape(-1, 1)\n",
    "myfeature = petal_width\n",
    "classes = data['target']\n",
    "X_train, X_test, y_train, y_test = train_test_split(myfeature, classes, test_size=0.2, random_state=0)\n",
    "#TRAINGING MY MODEL\n",
    "myModel.fit(X_train, y_train).predict(X_test)\n",
    "#CHECKING ACCURACY \n",
    "accuracy = myModel.score(X_test, y_test)\n",
    "accuracy *= 100\n",
    "print(\"Accuracy of Petal_Width : \" + str(format(accuracy, '.2f')) + \"%\")"
   ]
  },
  {
   "cell_type": "markdown",
   "metadata": {},
   "source": [
    "# Q: Make a set of two features i.e. (f1, f2), (f2, f3)... and calculate their accuracy with each other"
   ]
  },
  {
   "cell_type": "code",
   "execution_count": 116,
   "metadata": {},
   "outputs": [
    {
     "name": "stdout",
     "output_type": "stream",
     "text": [
      "Accuracy of set(f1,f2) : 46.67%\n"
     ]
    }
   ],
   "source": [
    "#SPLITING DATASET FOR TRAINING DATA = 80% AND TESTING DATA = 20% OF SEPAL_LENGTH OF DATA AND Sepal_Width\n",
    "features = data.data.T\n",
    "sepal_lengthAndSepal_width = features[0].reshape(-1, 1) + features[1].reshape(-1, 1)\n",
    "myfeature = sepal_lengthAndSepal_width\n",
    "classes = data['target']\n",
    "X_train, X_test, y_train, y_test = train_test_split(myfeature, classes, test_size=0.2, random_state=0)\n",
    "#TRAINGING MY MODEL\n",
    "myModel.fit(X_train, y_train).predict(X_test)\n",
    "#CHECKING ACCURACY \n",
    "accuracy = myModel.score(X_test, y_test)\n",
    "accuracy *= 100\n",
    "print(\"Accuracy of set(f1,f2) : \" + str(format(accuracy, '.2f')) + \"%\")"
   ]
  },
  {
   "cell_type": "code",
   "execution_count": 117,
   "metadata": {},
   "outputs": [
    {
     "name": "stdout",
     "output_type": "stream",
     "text": [
      "Accuracy of Set(f2,f3) : 86.67%\n"
     ]
    }
   ],
   "source": [
    "#SPLITING DATASET FOR TRAINING DATA = 80% AND TESTING DATA = 20% OF SEPAL_WIDTH OF DATA AND PETAL_LENGTH\n",
    "features = data.data.T\n",
    "Sepal_widthAndPetal_length = features[1].reshape(-1, 1) + features[2].reshape(-1, 1)\n",
    "myfeature = Sepal_widthAndPetal_length\n",
    "classes = data['target']\n",
    "X_train, X_test, y_train, y_test = train_test_split(myfeature, classes, test_size=0.2, random_state=0)\n",
    "#TRAINGING MY MODEL\n",
    "myModel.fit(X_train, y_train).predict(X_test)\n",
    "#CHECKING ACCURACY \n",
    "accuracy = myModel.score(X_test, y_test)\n",
    "accuracy *= 100\n",
    "print(\"Accuracy of Set(f2,f3) : \" + str(format(accuracy, '.2f')) + \"%\")"
   ]
  },
  {
   "cell_type": "code",
   "execution_count": 118,
   "metadata": {},
   "outputs": [
    {
     "name": "stdout",
     "output_type": "stream",
     "text": [
      "Accuracy of Set(f3,f4) : 100.00%\n"
     ]
    }
   ],
   "source": [
    "#SPLITING DATASET FOR TRAINING DATA = 80% AND TESTING DATA = 20% OF PETAL_LENGTH AND PETAL_WIDTH\n",
    "features = data.data.T\n",
    "Petal_lengthAndPetal_Width = features[2].reshape(-1, 1) + features[3].reshape(-1, 1)\n",
    "myfeature = Petal_lengthAndPetal_Width\n",
    "classes = data['target']\n",
    "X_train, X_test, y_train, y_test = train_test_split(myfeature, classes, test_size=0.2, random_state=0)\n",
    "#TRAINGING MY MODEL\n",
    "myModel.fit(X_train, y_train).predict(X_test)\n",
    "#CHECKING ACCURACY \n",
    "accuracy = myModel.score(X_test, y_test)\n",
    "accuracy *= 100\n",
    "print(\"Accuracy of Set(f3,f4) : \" + str(format(accuracy, '.2f')) + \"%\")"
   ]
  },
  {
   "cell_type": "markdown",
   "metadata": {},
   "source": [
    "# Q: Make a set of three features and calculate their accuracy."
   ]
  },
  {
   "cell_type": "code",
   "execution_count": 96,
   "metadata": {},
   "outputs": [
    {
     "name": "stdout",
     "output_type": "stream",
     "text": [
      "Accuracy of set(f1,f2,f3) : 76.67%\n"
     ]
    }
   ],
   "source": [
    "#SPLITING DATASET FOR TRAINING DATA = 80% AND TESTING DATA = 20% OF SEPAL_LENGTH OF DATA AND Sepal_Width AND PETAL_LENGTH\n",
    "features = data.data.T\n",
    "sepal_lengthAndSepal_widthAndPetal_length = features[0].reshape(-1, 1) + features[1].reshape(-1, 1) + features[2].reshape(-1,1)\n",
    "myfeature = sepal_lengthAndSepal_widthAndPetal_length\n",
    "classes = data['target']\n",
    "X_train, X_test, y_train, y_test = train_test_split(myfeature, classes, test_size=0.2, random_state=0)\n",
    "#TRAINGING MY MODEL\n",
    "myModel.fit(X_train, y_train).predict(X_test)\n",
    "#CHECKING ACCURACY \n",
    "accuracy = myModel.score(X_test, y_test)\n",
    "accuracy *= 100\n",
    "print(\"Accuracy of set(f1,f2,f3) : \" + str(format(accuracy, '.2f')) + \"%\")"
   ]
  },
  {
   "cell_type": "code",
   "execution_count": 99,
   "metadata": {},
   "outputs": [
    {
     "name": "stdout",
     "output_type": "stream",
     "text": [
      "Accuracy of set(f2,f3,f4) : 100.00%\n"
     ]
    }
   ],
   "source": [
    "#SPLITING DATASET FOR TRAINING DATA = 80% AND TESTING DATA = 20% OF Sepal_Width AND PETAL_LENGTH AND PETAL_WIDTH\n",
    "features = data.data.T\n",
    "Sepal_widthAndPetal_lengthAndPetal_Width = features[1].reshape(-1, 1) + features[2].reshape(-1, 1) + features[3].reshape(-1,1)\n",
    "myfeature = Sepal_widthAndPetal_lengthAndPetal_Width\n",
    "classes = data['target']\n",
    "X_train, X_test, y_train, y_test = train_test_split(myfeature, classes, test_size=0.2, random_state=0)\n",
    "#TRAINGING MY MODEL\n",
    "myModel.fit(X_train, y_train).predict(X_test)\n",
    "#CHECKING ACCURACY \n",
    "accuracy = myModel.score(X_test, y_test)\n",
    "accuracy *= 100\n",
    "print(\"Accuracy of set(f2,f3,f4) : \" + str(format(accuracy, '.2f')) + \"%\")"
   ]
  },
  {
   "cell_type": "markdown",
   "metadata": {},
   "source": [
    "# Q: Which of the above three feature selection approaches performed better and why? Explain in detail."
   ]
  },
  {
   "cell_type": "markdown",
   "metadata": {},
   "source": [
    "From the above feature selection approaches, The  feature or feature set containing PETAL_LENGTH or PETAL_WIDTH gives us the better performance.\n",
    "While selecting both PETAL_LENGTH AND PETAL_WIDTH gives us 100% accuracy because:\n",
    "Importance of features in Iris Dataset\n",
    "Petal_width > Petal_Length > Sepal_Length > Sepal_Width"
   ]
  },
  {
   "cell_type": "markdown",
   "metadata": {},
   "source": [
    "# Q: Apply 3-fold cross validation on the dataset to check your result performance."
   ]
  },
  {
   "cell_type": "code",
   "execution_count": 172,
   "metadata": {},
   "outputs": [
    {
     "name": "stdout",
     "output_type": "stream",
     "text": [
      "[0.94, 1.0, 0.92]\n",
      "0.9533333333333333\n"
     ]
    }
   ],
   "source": [
    "def get_score(model, X_train, X_test, y_train, y_test):\n",
    "    model.fit(X_train,y_train)\n",
    "    return model.score(X_test, y_test)\n",
    "from sklearn.model_selection import KFold\n",
    "\n",
    "data = load_iris()\n",
    "scores = []\n",
    "kfold = KFold(3, True, 1)\n",
    "for train, test in kfold.split(data.data):\n",
    "    X_train, X_test, y_train, y_test = data.data[train], data.data[test], data.target[train], data.target[test]\n",
    "    \n",
    "    scores.append(get_score(GaussianNB(), X_train, X_test, y_train, y_test))\n",
    "   \n",
    "\n",
    "mean = scores[0] + scores[1] + scores[2]\n",
    "mean /= 3\n",
    "print(scores)\n",
    "print(mean)"
   ]
  },
  {
   "cell_type": "code",
   "execution_count": 173,
   "metadata": {},
   "outputs": [
    {
     "name": "stdout",
     "output_type": "stream",
     "text": [
      "[0.92156863 0.90196078 0.97916667]\n",
      "0.9342320261437909\n"
     ]
    }
   ],
   "source": [
    "from sklearn.model_selection import cross_val_score\n",
    "Score1 = cross_val_score(GaussianNB(), data.data, data.target, cv = 3)\n",
    "print(Score1)\n",
    "print(Score1.mean())"
   ]
  },
  {
   "cell_type": "code",
   "execution_count": null,
   "metadata": {},
   "outputs": [],
   "source": []
  }
 ],
 "metadata": {
  "kernelspec": {
   "display_name": "Python 3",
   "language": "python",
   "name": "python3"
  },
  "language_info": {
   "codemirror_mode": {
    "name": "ipython",
    "version": 3
   },
   "file_extension": ".py",
   "mimetype": "text/x-python",
   "name": "python",
   "nbconvert_exporter": "python",
   "pygments_lexer": "ipython3",
   "version": "3.7.4"
  }
 },
 "nbformat": 4,
 "nbformat_minor": 2
}
