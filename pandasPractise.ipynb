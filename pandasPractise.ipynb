{
 "cells": [
  {
   "cell_type": "code",
   "execution_count": 92,
   "metadata": {},
   "outputs": [
    {
     "name": "stdout",
     "output_type": "stream",
     "text": [
      "   day  visitors  bounce_rate\n",
      "0    1       100           50\n",
      "1    2       200           10\n",
      "2    3       260           40\n"
     ]
    }
   ],
   "source": [
    "import pandas as pd\n",
    "myDict_web = {'day':[1,2,3], 'visitors':[100,200,260],'bounce_rate':[50,10,40]}\n",
    "myDataFrame = pd.DataFrame(myDict_web)\n",
    "print(myDataFrame)"
   ]
  },
  {
   "cell_type": "markdown",
   "metadata": {},
   "source": [
    "# SLICING"
   ]
  },
  {
   "cell_type": "code",
   "execution_count": 13,
   "metadata": {},
   "outputs": [
    {
     "name": "stdout",
     "output_type": "stream",
     "text": [
      "   day  visitors  bounce_rate\n",
      "0    1       100           50\n",
      "1    2       200           10\n"
     ]
    }
   ],
   "source": [
    "\n",
    "\n",
    "#SLICE FROM TOP\n",
    "print(myDataFrame.head(2))\n"
   ]
  },
  {
   "cell_type": "code",
   "execution_count": 14,
   "metadata": {},
   "outputs": [
    {
     "name": "stdout",
     "output_type": "stream",
     "text": [
      "   day  visitors  bounce_rate\n",
      "1    2       200           10\n",
      "2    3       260           40\n"
     ]
    }
   ],
   "source": [
    "#SLICE FROM BOTTOM\n",
    "print(myDataFrame.tail(2))"
   ]
  },
  {
   "cell_type": "code",
   "execution_count": 24,
   "metadata": {},
   "outputs": [
    {
     "name": "stdout",
     "output_type": "stream",
     "text": [
      "      hpi  Int_rate\n",
      "2001   80         2\n",
      "2002   90         1\n",
      "2003   70         2\n",
      "2004   60         3\n"
     ]
    }
   ],
   "source": [
    "dataFrame2 = pd.DataFrame({\"hpi\":[80,90,70,60], 'Int_rate':[2,1,2,3]}, index = [2001,2002,2003,2004])\n",
    "print(dataFrame2)"
   ]
  },
  {
   "cell_type": "code",
   "execution_count": 68,
   "metadata": {},
   "outputs": [
    {
     "name": "stdout",
     "output_type": "stream",
     "text": [
      "      hpi  Int_rate\n",
      "2005   80         2\n",
      "2006   90         1\n",
      "2007   70         2\n",
      "2008   60         4\n"
     ]
    }
   ],
   "source": [
    "dataFrame3 = pd.DataFrame({\"hpi\":[80,90,70,60], 'Int_rate':[2,1,2,4]},index = [2005,2006,2007,2008])\n",
    "print(dataFrame3)"
   ]
  },
  {
   "cell_type": "markdown",
   "metadata": {},
   "source": [
    "# MERGING"
   ]
  },
  {
   "cell_type": "markdown",
   "metadata": {},
   "source": [
    "merge = pd.merge(dataFrame2,dataFrame3)\n",
    "print(merge)"
   ]
  },
  {
   "cell_type": "code",
   "execution_count": 70,
   "metadata": {},
   "outputs": [
    {
     "name": "stdout",
     "output_type": "stream",
     "text": [
      "   hpi  Int_rate_x  Int_rate_y\n",
      "0   80           2           2\n",
      "1   90           1           1\n",
      "2   70           2           2\n",
      "3   60           3           4\n"
     ]
    }
   ],
   "source": [
    "merge = pd.merge(dataFrame2,dataFrame3, on = \"hpi\")\n",
    "print(merge)"
   ]
  },
  {
   "cell_type": "markdown",
   "metadata": {},
   "source": [
    "# JOINING"
   ]
  },
  {
   "cell_type": "code",
   "execution_count": 74,
   "metadata": {},
   "outputs": [
    {
     "name": "stdout",
     "output_type": "stream",
     "text": [
      "      Int_Rate  PAK_GDP  Low_GDP  Unemployement\n",
      "2001         2       50     50.0            1.0\n",
      "2002         1       45      NaN            NaN\n",
      "2003         2       45     60.0            3.0\n",
      "2004         3       67     70.0            5.0\n"
     ]
    }
   ],
   "source": [
    "df4 = pd.DataFrame({\"Int_Rate\":[2,1,2,3], 'PAK_GDP':[50,45,45,67]},index = [2001,2002,2003,2004])\n",
    "df5= pd.DataFrame({\"Low_GDP\":[50,60,70,80], \"Unemployement\":[1,3,5,6]},index = [2001,2003,2004,2005])\n",
    "\n",
    "joined = df4.join(df5)\n",
    "print(joined)"
   ]
  },
  {
   "cell_type": "markdown",
   "metadata": {},
   "source": [
    "# CHANGING INDEX"
   ]
  },
  {
   "cell_type": "code",
   "execution_count": 98,
   "metadata": {},
   "outputs": [
    {
     "name": "stdout",
     "output_type": "stream",
     "text": [
      "   day  visitors  bounce_rate\n",
      "0    1       100           50\n",
      "1    2       200           10\n",
      "2    3       260           40\n",
      "new data frame\n",
      "\n",
      "          day  bounce_rate\n",
      "visitors                  \n",
      "100         1           50\n",
      "200         2           10\n",
      "260         3           40\n"
     ]
    }
   ],
   "source": [
    "myDict_web = {'day':[1,2,3], 'visitors':[100,200,260],'bounce_rate':[50,10,40]}\n",
    "myDataFrame = pd.DataFrame(myDict_web)\n",
    "print(myDataFrame)\n",
    "\n",
    "myDataFrame.set_index(\"visitors\",inplace = True)\n",
    "\n",
    "print(\"new data frame\")\n",
    "\n",
    "print()\n",
    "\n",
    "print(myDataFrame)"
   ]
  },
  {
   "cell_type": "markdown",
   "metadata": {},
   "source": [
    "# CHANGE COLUMN HEADER"
   ]
  },
  {
   "cell_type": "code",
   "execution_count": 101,
   "metadata": {},
   "outputs": [
    {
     "name": "stdout",
     "output_type": "stream",
     "text": [
      "          days  bounce_rate\n",
      "visitors                   \n",
      "100          1           50\n",
      "200          2           10\n",
      "260          3           40\n"
     ]
    }
   ],
   "source": [
    "myDataFrame = myDataFrame.rename(columns={'day':'days'})\n",
    "print(myDataFrame)"
   ]
  },
  {
   "cell_type": "markdown",
   "metadata": {},
   "source": [
    "# CONCATINATION"
   ]
  },
  {
   "cell_type": "code",
   "execution_count": 110,
   "metadata": {},
   "outputs": [
    {
     "name": "stdout",
     "output_type": "stream",
     "text": [
      "      hpi  Int_rate\n",
      "2001   80         2\n",
      "2002   90         1\n",
      "2003   70         2\n",
      "2004   60         3\n",
      "2005  100        10\n",
      "2006  200        20\n",
      "2007  300        30\n",
      "2008  400        40\n"
     ]
    }
   ],
   "source": [
    "dataFrame7 = pd.DataFrame({\"hpi\":[80,90,70,60], 'Int_rate':[2,1,2,3]}, index = [2001,2002,2003,2004])\n",
    "dataFrame8 = pd.DataFrame({\"hpi\":[100,200,300,400], 'Int_rate':[10,20,30,40]},index = [2005,2006,2007,2008])\n",
    "\n",
    "concat = pd.concat([dataFrame7,dataFrame8])\n",
    "print(concat)\n"
   ]
  },
  {
   "cell_type": "markdown",
   "metadata": {},
   "source": [
    "# DATA MUNGING"
   ]
  },
  {
   "cell_type": "markdown",
   "metadata": {},
   "source": [
    "DATA MUNGING IS WHEN YOU WANT TO CHANGE THE FORMAT OF THE DATA,\n",
    "\n",
    "\n",
    "**OR YOU CAN SAY CHANGING TYPES OF FILES**\n",
    "\n",
    "*EXAMPLE: FROM CSV TO HTML*"
   ]
  },
  {
   "cell_type": "code",
   "execution_count": 122,
   "metadata": {},
   "outputs": [],
   "source": [
    "potions = pd.read_csv(\"potions.csv\", index_col = 0)\n",
    "\n",
    "potions.to_html('newPotions.html')\n",
    "\n",
    "#THIS HAS CREATED A NEW FILE AS newPotions.html IN THE ROOT DIR WHICH IS TABLE FORMED IN HTML"
   ]
  },
  {
   "cell_type": "markdown",
   "metadata": {},
   "source": [
    "# PYTHON FOR STATS"
   ]
  },
  {
   "cell_type": "code",
   "execution_count": 132,
   "metadata": {},
   "outputs": [
    {
     "name": "stdout",
     "output_type": "stream",
     "text": [
      "3.5\n"
     ]
    }
   ],
   "source": [
    "from statistics import mean\n",
    "print(mean([1,2,3,4,5,6]))"
   ]
  },
  {
   "cell_type": "code",
   "execution_count": 137,
   "metadata": {},
   "outputs": [
    {
     "name": "stdout",
     "output_type": "stream",
     "text": [
      "4\n"
     ]
    }
   ],
   "source": [
    "from statistics import median\n",
    "print(median([1,2,3,4,5,6,7]))"
   ]
  },
  {
   "cell_type": "code",
   "execution_count": 139,
   "metadata": {},
   "outputs": [
    {
     "name": "stdout",
     "output_type": "stream",
     "text": [
      "1\n"
     ]
    }
   ],
   "source": [
    "from statistics import mode\n",
    "print(mode([1,1,2,3,4,5,6]))"
   ]
  },
  {
   "cell_type": "code",
   "execution_count": 145,
   "metadata": {},
   "outputs": [
    {
     "name": "stdout",
     "output_type": "stream",
     "text": [
      "38.333333333333336\n"
     ]
    }
   ],
   "source": [
    "from statistics import variance\n",
    "print(variance([2,4,16,8]))"
   ]
  },
  {
   "cell_type": "code",
   "execution_count": null,
   "metadata": {},
   "outputs": [],
   "source": []
  }
 ],
 "metadata": {
  "kernelspec": {
   "display_name": "Python 3",
   "language": "python",
   "name": "python3"
  },
  "language_info": {
   "codemirror_mode": {
    "name": "ipython",
    "version": 3
   },
   "file_extension": ".py",
   "mimetype": "text/x-python",
   "name": "python",
   "nbconvert_exporter": "python",
   "pygments_lexer": "ipython3",
   "version": "3.7.4"
  }
 },
 "nbformat": 4,
 "nbformat_minor": 2
}
